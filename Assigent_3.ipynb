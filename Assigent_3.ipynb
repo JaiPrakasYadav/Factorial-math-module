{
 "cells": [
  {
   "cell_type": "markdown",
   "id": "a74008cb-352f-4711-b553-34d291ea80ac",
   "metadata": {},
   "source": [
    "Task 1 - Factorial"
   ]
  },
  {
   "cell_type": "code",
   "execution_count": 11,
   "id": "8d85577a-fc85-4bf9-9b6d-6c72474a15b9",
   "metadata": {},
   "outputs": [
    {
     "name": "stdin",
     "output_type": "stream",
     "text": [
      "Enter a Number =  5\n"
     ]
    },
    {
     "name": "stdout",
     "output_type": "stream",
     "text": [
      "Factorial of  5  is :  120\n"
     ]
    }
   ],
   "source": [
    "n=int(input(\"Enter a Number = \"))\n",
    "def fac(n):\n",
    "    if n==0 or n==1:\n",
    "        return 1\n",
    "    else:\n",
    "        return n*fac(n-1)\n",
    "\n",
    "print(\"Factorial of \",n,\" is : \",fac(n))"
   ]
  },
  {
   "cell_type": "code",
   "execution_count": 14,
   "id": "d056619a-5f0a-482f-972b-2d9d6e41b65f",
   "metadata": {},
   "outputs": [
    {
     "name": "stdin",
     "output_type": "stream",
     "text": [
      "Enter a Number =  5\n"
     ]
    },
    {
     "name": "stdout",
     "output_type": "stream",
     "text": [
      "Factorial of  0  is :  1\n",
      "Factorial of  1  is :  1\n",
      "Factorial of  2  is :  2\n",
      "Factorial of  3  is :  6\n",
      "Factorial of  4  is :  24\n",
      "Factorial of  5  is :  120\n"
     ]
    }
   ],
   "source": [
    "n=int(input(\"Enter a Number = \"))\n",
    "def fac(n):\n",
    "    if n==0 or n==1:\n",
    "        return 1\n",
    "    else:\n",
    "        return n*fac(n-1)\n",
    "for i in range(n+1):\n",
    "    print(\"Factorial of \",i,\" is : \",fac(i))"
   ]
  },
  {
   "cell_type": "markdown",
   "id": "d895eaf1-88e9-436d-864e-5c3276ffc795",
   "metadata": {},
   "source": [
    "Task 2 : Mathematicall Operations from math module"
   ]
  },
  {
   "cell_type": "code",
   "execution_count": 25,
   "id": "7b6f8e2e-b57d-4418-8096-fe0ce00780db",
   "metadata": {},
   "outputs": [
    {
     "name": "stdin",
     "output_type": "stream",
     "text": [
      "Enter a number :  25\n"
     ]
    },
    {
     "name": "stdout",
     "output_type": "stream",
     "text": [
      "Square root of 25 is :  5.0\n",
      "Logorithm of 25 is :  3.2188758248682006\n",
      "Sin 25 is :  -0.13235175009777303\n"
     ]
    }
   ],
   "source": [
    "import math\n",
    "a=int(input(\"Enter a number : \"))\n",
    "print(\"Square root of\",a,\"is : \",math.sqrt(a))\n",
    "print(\"Logorithm of\",a,\"is : \",math.log(a))\n",
    "print(\"Sin\",a,\"is : \",math.sin(a))\n"
   ]
  },
  {
   "cell_type": "code",
   "execution_count": null,
   "id": "492775f7-a5c8-402b-94e6-74f2de448390",
   "metadata": {},
   "outputs": [],
   "source": []
  }
 ],
 "metadata": {
  "kernelspec": {
   "display_name": "Python 3 (ipykernel)",
   "language": "python",
   "name": "python3"
  },
  "language_info": {
   "codemirror_mode": {
    "name": "ipython",
    "version": 3
   },
   "file_extension": ".py",
   "mimetype": "text/x-python",
   "name": "python",
   "nbconvert_exporter": "python",
   "pygments_lexer": "ipython3",
   "version": "3.11.13"
  }
 },
 "nbformat": 4,
 "nbformat_minor": 5
}
